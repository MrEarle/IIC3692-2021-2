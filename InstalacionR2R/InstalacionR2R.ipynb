{
  "nbformat": 4,
  "nbformat_minor": 0,
  "metadata": {
    "colab": {
      "name": "InstalaciónR2R.ipynb",
      "provenance": [],
      "collapsed_sections": [],
      "toc_visible": true
    },
    "kernelspec": {
      "name": "python3",
      "display_name": "Python 3"
    },
    "language_info": {
      "name": "python"
    },
    "accelerator": "GPU"
  },
  "cells": [
    {
      "cell_type": "markdown",
      "metadata": {
        "id": "7lxpWl2TekMJ"
      },
      "source": [
        "# Instalación para el repo R2R\n",
        "\n",
        "Estas instrucciones son para R2R. Para R2R y REVERIE no debiera ser muy distinto, ya que todos se basan en el simulador Matterport3DSimulator, que es lo que estamos instalando acá.\n",
        "\n",
        "Todos estos pasos hay que hacerlos solo una vez, ya que quedan con todos los archivos necesarios en su drive (o su pc si lo hacen ahí)."
      ]
    },
    {
      "cell_type": "markdown",
      "metadata": {
        "id": "XQgtgSOtrCRB"
      },
      "source": [
        "# Montar Drive\n",
        "\n",
        "Esto es solo necesario si van a usar colab"
      ]
    },
    {
      "cell_type": "code",
      "metadata": {
        "id": "HGCiUkYkS7yL"
      },
      "source": [
        "from google.colab import drive\n",
        "drive.mount('/content/drive')"
      ],
      "execution_count": null,
      "outputs": []
    },
    {
      "cell_type": "code",
      "metadata": {
        "id": "eXrUOT2QS9qS"
      },
      "source": [
        "%cd \"/content/drive/MyDrive/AyudantiaTopicos/Matterport\" # Aqui usar su propia ruta"
      ],
      "execution_count": null,
      "outputs": []
    },
    {
      "cell_type": "markdown",
      "metadata": {
        "id": "R2hr4B8grH21"
      },
      "source": [
        "# Clonar Repo\n",
        "\n",
        "Primero tenemos que clonar el repo de Matterport3DSimulator o algún otro que use este simulador. Para este ejemplo vamos a probar con el de [Regretful Agent](https://github.com/chihyaoma/regretful-agent). He visto que cada repo tiene instrucciones distintas, pero, en general, el procedimiento es muy similar.\n",
        "\n",
        "NOTA: El repo de Matterport3DSimulator tiene un pequeño error con indexación, por lo que hay que arreglarlo a mano si se usa ese."
      ]
    },
    {
      "cell_type": "code",
      "metadata": {
        "id": "KJ4lox0FVUYJ"
      },
      "source": [
        "!git clone --recursive https://github.com/chihyaoma/regretful-agent.git # Pueden probar con otro repo."
      ],
      "execution_count": null,
      "outputs": []
    },
    {
      "cell_type": "code",
      "metadata": {
        "id": "96FtbeecTEqA"
      },
      "source": [
        "%cd regretful-agent/"
      ],
      "execution_count": null,
      "outputs": []
    },
    {
      "cell_type": "code",
      "metadata": {
        "id": "xMyM5GyNUxch"
      },
      "source": [
        "!ls "
      ],
      "execution_count": null,
      "outputs": []
    },
    {
      "cell_type": "markdown",
      "metadata": {
        "id": "nIoSfyv5rLgj"
      },
      "source": [
        "# Instalar dependencias"
      ]
    },
    {
      "cell_type": "markdown",
      "metadata": {
        "id": "40tlwE9vd12i"
      },
      "source": [
        "Estas son dependencias para poder compilar el simulador. Dependiendo del repo, quizas necesiten otras, por lo que deben revisar su README."
      ]
    },
    {
      "cell_type": "code",
      "metadata": {
        "id": "IvA7igPCUNJx"
      },
      "source": [
        "!apt-get install libopencv-dev python-opencv freeglut3 freeglut3-dev libglm-dev libjsoncpp-dev doxygen libosmesa6-dev libosmesa6 libglew-dev"
      ],
      "execution_count": null,
      "outputs": []
    },
    {
      "cell_type": "markdown",
      "metadata": {
        "id": "2PxkcmtyrO5o"
      },
      "source": [
        "# Descargar features precomputadas para las panorámicas\n",
        "\n",
        "El dataset tiene muchas imágenes, por lo que descargarlas directamente es muy pesado. Para esto, descargaremos features precomputadas con una ResNet 152 entrenada en ImageNet. Esto además hará el procesamiento más liviano, ya que nos evitamos tener que hacer esta extracción de features."
      ]
    },
    {
      "cell_type": "markdown",
      "metadata": {
        "id": "Bi3TtdbVeAfO"
      },
      "source": [
        "Recuerden aca cambiar por su propia ruta en drive!"
      ]
    },
    {
      "cell_type": "code",
      "metadata": {
        "id": "5YM_IUmUU4Ie"
      },
      "source": [
        "!wget -P /content/drive/MyDrive/AyudantiaTopicos/Matterport/regretful-agent/img_features https://www.dropbox.com/s/o57kxh2mn5rkx4o/ResNet-152-imagenet.zip"
      ],
      "execution_count": null,
      "outputs": []
    },
    {
      "cell_type": "markdown",
      "metadata": {
        "id": "Ijc7oiyeeFh8"
      },
      "source": [
        "Aca tambien deben usar su propia ruta!"
      ]
    },
    {
      "cell_type": "code",
      "metadata": {
        "id": "PPDPBFMfar4J"
      },
      "source": [
        "!unzip '/content/drive/My Drive/AyudantiaTopicos/Matterport/regretful-agent/img_features/ResNet-152-imagenet.zip' -d '/content/drive/My Drive/AyudantiaTopicos/Matterport/regretful-agent/img_features'"
      ],
      "execution_count": null,
      "outputs": []
    },
    {
      "cell_type": "markdown",
      "metadata": {
        "id": "Obxiie5oeQOf"
      },
      "source": [
        "# Descargar instrucciones de navegación\n",
        "\n",
        "Ahora vamos a descargar las instrucciones de navegación. He visto que distintos repos pueden tener un procedimiento levemente distinto, pero en general es correr un archivo `.sh`."
      ]
    },
    {
      "cell_type": "code",
      "metadata": {
        "id": "fkliCa76Xb0S"
      },
      "source": [
        "!bash ./tasks/R2R-pano/data/download.sh"
      ],
      "execution_count": null,
      "outputs": []
    },
    {
      "cell_type": "markdown",
      "metadata": {
        "id": "ff3Qk90-uV3n"
      },
      "source": [
        "# Build Simulator\n",
        "\n",
        "Ahora vamos a compilar el simulador.\n",
        "\n",
        "Primero debemos usar la carpeta BUILD"
      ]
    },
    {
      "cell_type": "code",
      "metadata": {
        "id": "clXY5g2MVufI"
      },
      "source": [
        "!mkdir build"
      ],
      "execution_count": null,
      "outputs": []
    },
    {
      "cell_type": "code",
      "metadata": {
        "id": "qTh8NZGUV1U5"
      },
      "source": [
        "%cd build"
      ],
      "execution_count": null,
      "outputs": []
    },
    {
      "cell_type": "code",
      "metadata": {
        "id": "TAVbPpDsvGSE"
      },
      "source": [
        "!rm -rf *"
      ],
      "execution_count": null,
      "outputs": []
    },
    {
      "cell_type": "markdown",
      "metadata": {
        "id": "BeRk4gQufFs_"
      },
      "source": [
        "Ahora vamos a crear los archivos necesarios para compilar con `cmake`. El argumento `-DOSMESA_RENDERING` es para usar OS MESA para hacer rendering del entorno sin abrir ventanas (headless)."
      ]
    },
    {
      "cell_type": "code",
      "metadata": {
        "id": "ZnKcgOmlTYYn"
      },
      "source": [
        "!cmake -DOSMESA_RENDERING=ON .."
      ],
      "execution_count": null,
      "outputs": []
    },
    {
      "cell_type": "markdown",
      "metadata": {
        "id": "vruhvAvvfU0D"
      },
      "source": [
        "Por último, compilamos el simulador."
      ]
    },
    {
      "cell_type": "code",
      "metadata": {
        "id": "q_W2LYsYT0jv"
      },
      "source": [
        "!make"
      ],
      "execution_count": null,
      "outputs": []
    },
    {
      "cell_type": "markdown",
      "metadata": {
        "id": "yg7auAKKfYKy"
      },
      "source": [
        "Y volvemos a la carpeta raíz del proyecto."
      ]
    },
    {
      "cell_type": "code",
      "metadata": {
        "id": "O7XWGvINW7D8"
      },
      "source": [
        "%cd .."
      ],
      "execution_count": null,
      "outputs": []
    },
    {
      "cell_type": "markdown",
      "metadata": {
        "id": "buxSXGRDfbz2"
      },
      "source": [
        "# Probar que funciona\n",
        "\n",
        "Colab ya tiene muchas librerias de python instaladas, como numpy, torch, etc...\n",
        "\n",
        "El repo de regretful-agent tambien usa tensorboardX, que no viene en colab, asi que debemos instalarlo."
      ]
    },
    {
      "cell_type": "code",
      "metadata": {
        "id": "KuaFr2tfwbxr"
      },
      "source": [
        "!pip install tensorboardX"
      ],
      "execution_count": null,
      "outputs": []
    },
    {
      "cell_type": "markdown",
      "metadata": {
        "id": "ZLRm5s6cfpu-"
      },
      "source": [
        "Por último, corremos el código del regretful agent, en su forma más simple. Si esto corre, significa que tenemos todo instalado bien."
      ]
    },
    {
      "cell_type": "code",
      "metadata": {
        "id": "pLWe-aFKZTQY"
      },
      "source": [
        "!python tasks/R2R-pano/main.py"
      ],
      "execution_count": null,
      "outputs": []
    }
  ]
}