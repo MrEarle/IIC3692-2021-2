{
  "nbformat": 4,
  "nbformat_minor": 2,
  "metadata": {
    "colab": {
      "name": "InstalaciónR2R.ipynb",
      "provenance": [],
      "collapsed_sections": [],
      "toc_visible": true
    },
    "kernelspec": {
      "name": "python3",
      "display_name": "Python 3"
    },
    "language_info": {
      "name": "python"
    },
    "accelerator": "GPU"
  },
  "cells": [
    {
      "cell_type": "markdown",
      "source": [
        "# Instalación para el repo R2R\n",
        "\n",
        "Estas instrucciones son para R2R. Para R2R y REVERIE no debiera ser muy distinto, ya que todos se basan en el simulador Matterport3DSimulator, que es lo que estamos instalando acá.\n",
        "\n",
        "Pueden encontrar las instrucciones específicas en:\n",
        "\n",
        "- Room-to-Room (R2R): [https://github.com/peteanderson80/Matterport3DSimulator](https://github.com/peteanderson80/Matterport3DSimulator)\n",
        "- Room-across-Room (RxR): [https://github.com/google-research-datasets/RxR](https://github.com/google-research-datasets/RxR)\n",
        "- REVERIE: [https://github.com/YuankaiQi/REVERIE](https://github.com/YuankaiQi/REVERIE)\n",
        "\n",
        "Todos estos pasos hay que hacerlos solo una vez, ya que quedan con todos los archivos necesarios en su drive (o su pc si lo hacen ahí)."
      ],
      "metadata": {
        "id": "7lxpWl2TekMJ"
      }
    },
    {
      "cell_type": "markdown",
      "source": [
        "# Montar Drive\n",
        "\n",
        "Esto es solo necesario si van a usar colab"
      ],
      "metadata": {
        "id": "XQgtgSOtrCRB"
      }
    },
    {
      "cell_type": "code",
      "execution_count": null,
      "source": [
        "from google.colab import drive\n",
        "drive.mount('/content/drive')"
      ],
      "outputs": [],
      "metadata": {
        "id": "HGCiUkYkS7yL"
      }
    },
    {
      "cell_type": "code",
      "execution_count": null,
      "source": [
        "%cd \"/content/drive/MyDrive/AyudantiaTopicos/Matterport\" # Aqui usar su propia ruta"
      ],
      "outputs": [],
      "metadata": {
        "id": "eXrUOT2QS9qS"
      }
    },
    {
      "cell_type": "markdown",
      "source": [
        "# Clonar Repo\n",
        "\n",
        "Primero tenemos que clonar el repo de Matterport3DSimulator o algún otro que use este simulador. Para este ejemplo vamos a probar con el de [Regretful Agent](https://github.com/chihyaoma/regretful-agent). He visto que cada repo tiene instrucciones distintas, pero, en general, el procedimiento es muy similar.\n",
        "\n",
        "NOTA: El repo de Matterport3DSimulator tiene un pequeño error con indexación, por lo que hay que arreglarlo a mano si se usa ese."
      ],
      "metadata": {
        "id": "R2hr4B8grH21"
      }
    },
    {
      "cell_type": "code",
      "execution_count": null,
      "source": [
        "!git clone --recursive https://github.com/chihyaoma/regretful-agent.git # Pueden probar con otro repo."
      ],
      "outputs": [],
      "metadata": {
        "id": "KJ4lox0FVUYJ"
      }
    },
    {
      "cell_type": "code",
      "execution_count": null,
      "source": [
        "%cd regretful-agent/"
      ],
      "outputs": [],
      "metadata": {
        "id": "96FtbeecTEqA"
      }
    },
    {
      "cell_type": "code",
      "execution_count": null,
      "source": [
        "!ls "
      ],
      "outputs": [],
      "metadata": {
        "id": "xMyM5GyNUxch"
      }
    },
    {
      "cell_type": "markdown",
      "source": [
        "# Instalar dependencias"
      ],
      "metadata": {
        "id": "nIoSfyv5rLgj"
      }
    },
    {
      "cell_type": "markdown",
      "source": [
        "Estas son dependencias para poder compilar el simulador. Dependiendo del repo, quizas necesiten otras, por lo que deben revisar su README."
      ],
      "metadata": {
        "id": "40tlwE9vd12i"
      }
    },
    {
      "cell_type": "code",
      "execution_count": null,
      "source": [
        "!apt-get install libopencv-dev python-opencv freeglut3 freeglut3-dev libglm-dev libjsoncpp-dev doxygen libosmesa6-dev libosmesa6 libglew-dev"
      ],
      "outputs": [],
      "metadata": {
        "id": "IvA7igPCUNJx"
      }
    },
    {
      "cell_type": "markdown",
      "source": [
        "# Descargar features precomputadas para las panorámicas\n",
        "\n",
        "El dataset tiene muchas imágenes, por lo que descargarlas directamente es muy pesado. Para esto, descargaremos features precomputadas con una ResNet 152 entrenada en ImageNet. Esto además hará el procesamiento más liviano, ya que nos evitamos tener que hacer esta extracción de features."
      ],
      "metadata": {
        "id": "2PxkcmtyrO5o"
      }
    },
    {
      "cell_type": "markdown",
      "source": [
        "Recuerden aca cambiar por su propia ruta en drive!"
      ],
      "metadata": {
        "id": "Bi3TtdbVeAfO"
      }
    },
    {
      "cell_type": "code",
      "execution_count": null,
      "source": [
        "!wget -P /content/drive/MyDrive/AyudantiaTopicos/Matterport/regretful-agent/img_features https://www.dropbox.com/s/o57kxh2mn5rkx4o/ResNet-152-imagenet.zip"
      ],
      "outputs": [],
      "metadata": {
        "id": "5YM_IUmUU4Ie"
      }
    },
    {
      "cell_type": "markdown",
      "source": [
        "Aca tambien deben usar su propia ruta!"
      ],
      "metadata": {
        "id": "Ijc7oiyeeFh8"
      }
    },
    {
      "cell_type": "code",
      "execution_count": null,
      "source": [
        "!unzip '/content/drive/My Drive/AyudantiaTopicos/Matterport/regretful-agent/img_features/ResNet-152-imagenet.zip' -d '/content/drive/My Drive/AyudantiaTopicos/Matterport/regretful-agent/img_features'"
      ],
      "outputs": [],
      "metadata": {
        "id": "PPDPBFMfar4J"
      }
    },
    {
      "cell_type": "markdown",
      "source": [
        "# Descargar instrucciones de navegación\n",
        "\n",
        "Ahora vamos a descargar las instrucciones de navegación. He visto que distintos repos pueden tener un procedimiento levemente distinto, pero en general es correr un archivo `.sh`."
      ],
      "metadata": {
        "id": "Obxiie5oeQOf"
      }
    },
    {
      "cell_type": "code",
      "execution_count": null,
      "source": [
        "!bash ./tasks/R2R-pano/data/download.sh"
      ],
      "outputs": [],
      "metadata": {
        "id": "fkliCa76Xb0S"
      }
    },
    {
      "cell_type": "markdown",
      "source": [
        "# Build Simulator\n",
        "\n",
        "Ahora vamos a compilar el simulador.\n",
        "\n",
        "Primero debemos usar la carpeta BUILD"
      ],
      "metadata": {
        "id": "ff3Qk90-uV3n"
      }
    },
    {
      "cell_type": "code",
      "execution_count": null,
      "source": [
        "!mkdir build"
      ],
      "outputs": [],
      "metadata": {
        "id": "clXY5g2MVufI"
      }
    },
    {
      "cell_type": "code",
      "execution_count": null,
      "source": [
        "%cd build"
      ],
      "outputs": [],
      "metadata": {
        "id": "qTh8NZGUV1U5"
      }
    },
    {
      "cell_type": "code",
      "execution_count": null,
      "source": [
        "!rm -rf *"
      ],
      "outputs": [],
      "metadata": {
        "id": "TAVbPpDsvGSE"
      }
    },
    {
      "cell_type": "markdown",
      "source": [
        "Ahora vamos a crear los archivos necesarios para compilar con `cmake`. El argumento `-DOSMESA_RENDERING` es para usar OS MESA para hacer rendering del entorno sin abrir ventanas (headless)."
      ],
      "metadata": {
        "id": "BeRk4gQufFs_"
      }
    },
    {
      "cell_type": "code",
      "execution_count": null,
      "source": [
        "!cmake -DOSMESA_RENDERING=ON .."
      ],
      "outputs": [],
      "metadata": {
        "id": "ZnKcgOmlTYYn"
      }
    },
    {
      "cell_type": "markdown",
      "source": [
        "Por último, compilamos el simulador."
      ],
      "metadata": {
        "id": "vruhvAvvfU0D"
      }
    },
    {
      "cell_type": "code",
      "execution_count": null,
      "source": [
        "!make"
      ],
      "outputs": [],
      "metadata": {
        "id": "q_W2LYsYT0jv"
      }
    },
    {
      "cell_type": "markdown",
      "source": [
        "Y volvemos a la carpeta raíz del proyecto."
      ],
      "metadata": {
        "id": "yg7auAKKfYKy"
      }
    },
    {
      "cell_type": "code",
      "execution_count": null,
      "source": [
        "%cd .."
      ],
      "outputs": [],
      "metadata": {
        "id": "O7XWGvINW7D8"
      }
    },
    {
      "cell_type": "markdown",
      "source": [
        "# Probar que funciona\n",
        "\n",
        "Colab ya tiene muchas librerias de python instaladas, como numpy, torch, etc...\n",
        "\n",
        "El repo de regretful-agent tambien usa tensorboardX, que no viene en colab, asi que debemos instalarlo."
      ],
      "metadata": {
        "id": "buxSXGRDfbz2"
      }
    },
    {
      "cell_type": "code",
      "execution_count": null,
      "source": [
        "!pip install tensorboardX"
      ],
      "outputs": [],
      "metadata": {
        "id": "KuaFr2tfwbxr"
      }
    },
    {
      "cell_type": "markdown",
      "source": [
        "Por último, corremos el código del regretful agent, en su forma más simple. Si esto corre, significa que tenemos todo instalado bien."
      ],
      "metadata": {
        "id": "ZLRm5s6cfpu-"
      }
    },
    {
      "cell_type": "code",
      "execution_count": null,
      "source": [
        "!python tasks/R2R-pano/main.py"
      ],
      "outputs": [],
      "metadata": {
        "id": "pLWe-aFKZTQY"
      }
    }
  ]
}